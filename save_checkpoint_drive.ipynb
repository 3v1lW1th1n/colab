{
  "nbformat": 4,
  "nbformat_minor": 0,
  "metadata": {
    "colab": {
      "name": "save checkpoint drive.ipynb",
      "provenance": [],
      "collapsed_sections": [],
      "mount_file_id": "1dDJcUOs8h9qZb5C-6t-o8BCuIulIBJaB",
      "authorship_tag": "ABX9TyOUxQtlSaigrks6lFVw8jRH",
      "include_colab_link": true
    },
    "kernelspec": {
      "name": "python3",
      "display_name": "Python 3"
    }
  },
  "cells": [
    {
      "cell_type": "markdown",
      "metadata": {
        "id": "view-in-github",
        "colab_type": "text"
      },
      "source": [
        "<a href=\"https://colab.research.google.com/github/vistec-AI/colab/blob/master/save_checkpoint_drive.ipynb\" target=\"_parent\"><img src=\"https://colab.research.google.com/assets/colab-badge.svg\" alt=\"Open In Colab\"/></a>"
      ]
    },
    {
      "cell_type": "markdown",
      "metadata": {
        "id": "ynNhl_XxcYhL",
        "colab_type": "text"
      },
      "source": [
        "เริ่มจาก ต่อ Google Drive ก่อน.\n",
        "\n",
        "ถ้าใช้วิธี save a copy จะ mount อัตโนมัติไม่ได้. ต้องสร้าง New notebook แล้ว copy-paste ไปทีละ cell\n",
        "\n",
        "เปิด File Pane ด้านซ้าย\n",
        "- เลือก Mount Drive\n",
        "- คลิก Connect to Google Drive\n",
        "\n",
        "Drive จะมาอยู่ที่ `/content/drive/My Drive/`"
      ]
    },
    {
      "cell_type": "code",
      "metadata": {
        "id": "KjZh08N6b4kF",
        "colab_type": "code",
        "colab": {}
      },
      "source": [
        "import tensorflow as tf"
      ],
      "execution_count": 0,
      "outputs": []
    },
    {
      "cell_type": "code",
      "metadata": {
        "id": "xq_pWJdUcMk8",
        "colab_type": "code",
        "outputId": "05434e65-6946-4f6e-9520-10bf7e7338ae",
        "colab": {
          "base_uri": "https://localhost:8080/",
          "height": 52
        }
      },
      "source": [
        "# โหลด data จาก CIFAR-10\n",
        "(x_train, y_train), (x_test, y_test) = tf.keras.datasets.cifar10.load_data()\n",
        "x_train = x_train / 255.0\n",
        "x_test = x_test / 255.0"
      ],
      "execution_count": 0,
      "outputs": [
        {
          "output_type": "stream",
          "text": [
            "Downloading data from https://www.cs.toronto.edu/~kriz/cifar-10-python.tar.gz\n",
            "170500096/170498071 [==============================] - 11s 0us/step\n"
          ],
          "name": "stdout"
        }
      ]
    },
    {
      "cell_type": "code",
      "metadata": {
        "id": "zmUgzlCSiNrJ",
        "colab_type": "code",
        "colab": {}
      },
      "source": [
        "# สร้าง model CNN ง่ายๆ\n",
        "from tensorflow.keras.models import Sequential\n",
        "from tensorflow.keras.layers import Dense, Flatten, Conv2D, MaxPooling2D\n",
        "\n",
        "def get_new_model():\n",
        "    model = Sequential([\n",
        "        Conv2D(filters=16, input_shape=(32, 32, 3), kernel_size=(3, 3), \n",
        "               activation='relu', name='conv_1'),\n",
        "        Conv2D(filters=8, kernel_size=(3, 3), activation='relu', name='conv_2'),\n",
        "        MaxPooling2D(pool_size=(4, 4), name='pool_1'),\n",
        "        Flatten(name='flatten'),\n",
        "        Dense(units=32, activation='relu', name='dense_1'),\n",
        "        Dense(units=10, activation='softmax', name='dense_2')\n",
        "    ])\n",
        "    model.compile(optimizer='adam',\n",
        "                  loss='sparse_categorical_crossentropy',\n",
        "                  metrics=['accuracy'])\n",
        "    return model"
      ],
      "execution_count": 0,
      "outputs": []
    },
    {
      "cell_type": "code",
      "metadata": {
        "id": "t9GTj9nRihzO",
        "colab_type": "code",
        "colab": {}
      },
      "source": [
        "model = get_new_model()"
      ],
      "execution_count": 0,
      "outputs": []
    },
    {
      "cell_type": "code",
      "metadata": {
        "id": "sIpFZ8kdioaj",
        "colab_type": "code",
        "colab": {}
      },
      "source": [
        "# จะสร้าง callback เพื่อ save ทุกๆ epoch\n",
        "from tensorflow.keras.callbacks import ModelCheckpoint\n",
        "# เลือกให้ save ใน Google Drive เรา\n",
        "checkpoint_path = '/content/drive/My Drive/checkpoint'\n",
        "checkpoint = ModelCheckpoint(checkpoint_path, save_weights_only=True)"
      ],
      "execution_count": 0,
      "outputs": []
    },
    {
      "cell_type": "code",
      "metadata": {
        "id": "JJfDzNzKi9mw",
        "colab_type": "code",
        "outputId": "450369b9-a5da-4cbf-e6db-ccbdf067638b",
        "colab": {
          "base_uri": "https://localhost:8080/",
          "height": 139
        }
      },
      "source": [
        "# ลอง train ง่ายๆ แค่ 3 epoch มันจะ save ทุกๆ epoch\n",
        "model.fit(x=x_train, y=y_train, epochs=3, callbacks=[checkpoint])"
      ],
      "execution_count": 0,
      "outputs": [
        {
          "output_type": "stream",
          "text": [
            "Epoch 1/3\n",
            "1563/1563 [==============================] - 49s 31ms/step - loss: 1.5953 - accuracy: 0.4229\n",
            "Epoch 2/3\n",
            "1563/1563 [==============================] - 49s 31ms/step - loss: 1.3158 - accuracy: 0.5348\n",
            "Epoch 3/3\n",
            "1563/1563 [==============================] - 49s 31ms/step - loss: 1.2332 - accuracy: 0.5644\n"
          ],
          "name": "stdout"
        },
        {
          "output_type": "execute_result",
          "data": {
            "text/plain": [
              "<tensorflow.python.keras.callbacks.History at 0x7f387294f198>"
            ]
          },
          "metadata": {
            "tags": []
          },
          "execution_count": 8
        }
      ]
    },
    {
      "cell_type": "markdown",
      "metadata": {
        "id": "ACfVz82_j7Vh",
        "colab_type": "text"
      },
      "source": [
        "สมมติ ว่า train เยอะๆ เช่น 10,000 epoch แล้ว Colab มันตัดไปซะก่อนครบ. เราก็ load จากของเดิม มา train ต่อได้\n",
        "\n",
        "โดย run code เดิมทั้งหมดด้านบน ยกเว้น cell สุดท้าย (model.fit)\n",
        "\n",
        "แล้วก็มา load model เก่าขึ้นมา train ต่อ"
      ]
    },
    {
      "cell_type": "code",
      "metadata": {
        "id": "MpxSFGcpi_Y2",
        "colab_type": "code",
        "outputId": "2ed1468a-d5e6-4f27-d282-452e5fa1ae83",
        "colab": {
          "base_uri": "https://localhost:8080/",
          "height": 69
        }
      },
      "source": [
        "# ดูว่ามี file ที่ save ไว้จริง\n",
        "!ls -al drive/\"My Drive\"/check*"
      ],
      "execution_count": 0,
      "outputs": [
        {
          "output_type": "stream",
          "text": [
            "-rw------- 1 root root     77 May 31 11:50 'drive/My Drive/checkpoint'\n",
            "-rw------- 1 root root 177815 May 31 11:50 'drive/My Drive/checkpoint.data-00000-of-00001'\n",
            "-rw------- 1 root root   2038 May 31 11:50 'drive/My Drive/checkpoint.index'\n"
          ],
          "name": "stdout"
        }
      ]
    },
    {
      "cell_type": "code",
      "metadata": {
        "id": "KLEu1lj9k0bh",
        "colab_type": "code",
        "outputId": "10d7c05a-f7d3-4e76-f09b-3544000db1c5",
        "colab": {
          "base_uri": "https://localhost:8080/",
          "height": 34
        }
      },
      "source": [
        "# load ของเก่า ขึ้นมา\n",
        "model = get_new_model()\n",
        "model.load_weights(checkpoint_path)"
      ],
      "execution_count": 0,
      "outputs": [
        {
          "output_type": "execute_result",
          "data": {
            "text/plain": [
              "<tensorflow.python.training.tracking.util.CheckpointLoadStatus at 0x7f3872847d30>"
            ]
          },
          "metadata": {
            "tags": []
          },
          "execution_count": 12
        }
      ]
    },
    {
      "cell_type": "code",
      "metadata": {
        "id": "jflnqwVflV_y",
        "colab_type": "code",
        "outputId": "0b095d8c-0327-49a9-91cf-2517db66146e",
        "colab": {
          "base_uri": "https://localhost:8080/",
          "height": 104
        }
      },
      "source": [
        "# train ต่ออีก 2 epoch เป็นตัวอย่าง\n",
        "model.fit(x=x_train,\n",
        "          y=y_train,\n",
        "          epochs=2,\n",
        "          callbacks=[checkpoint])"
      ],
      "execution_count": 0,
      "outputs": [
        {
          "output_type": "stream",
          "text": [
            "Epoch 1/2\n",
            "1563/1563 [==============================] - 53s 34ms/step - loss: 1.1851 - accuracy: 0.5839\n",
            "Epoch 2/2\n",
            "1563/1563 [==============================] - 50s 32ms/step - loss: 1.1456 - accuracy: 0.5981\n"
          ],
          "name": "stdout"
        },
        {
          "output_type": "execute_result",
          "data": {
            "text/plain": [
              "<tensorflow.python.keras.callbacks.History at 0x7f3879e1b828>"
            ]
          },
          "metadata": {
            "tags": []
          },
          "execution_count": 13
        }
      ]
    },
    {
      "cell_type": "markdown",
      "metadata": {
        "id": "7_WN3iWRlpzD",
        "colab_type": "text"
      },
      "source": [
        "จะเห็นว่า accuracy เริ่มที่ 0.5 กว่าๆ คือเป็นการ train ต่อจากเดิม ไม่ได้เริ่ม train ใหม่จากศูนย์"
      ]
    },
    {
      "cell_type": "code",
      "metadata": {
        "id": "6DG3j1xclniD",
        "colab_type": "code",
        "colab": {}
      },
      "source": [
        ""
      ],
      "execution_count": 0,
      "outputs": []
    }
  ]
}
