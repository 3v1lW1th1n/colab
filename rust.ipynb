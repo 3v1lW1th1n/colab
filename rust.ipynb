{
  "nbformat": 4,
  "nbformat_minor": 0,
  "metadata": {
    "colab": {
      "name": "rust gdown.ipynb",
      "provenance": [],
      "collapsed_sections": [],
      "include_colab_link": true
    },
    "kernelspec": {
      "name": "rust",
      "display_name": "Rust"
    }
  },
  "cells": [
    {
      "cell_type": "markdown",
      "metadata": {
        "id": "view-in-github",
        "colab_type": "text"
      },
      "source": [
        "<a href=\"https://colab.research.google.com/github/vistec-AI/colab/blob/master/rust.ipynb\" target=\"_parent\"><img src=\"https://colab.research.google.com/assets/colab-badge.svg\" alt=\"Open In Colab\"/></a>"
      ]
    },
    {
      "cell_type": "code",
      "metadata": {
        "id": "p--wYZ2QwcgN",
        "colab_type": "code",
        "colab": {}
      },
      "source": [
        "# run this once, then reload, and then skip this\n",
        "!apt install rustc\n",
        "!gdown --id 1PULtTc-2e9z4bswh_SQqL5oy_4JpfV7c\n",
        "!chmod +x evcxr_jupyter\n",
        "!./evcxr_jupyter --install"
      ],
      "execution_count": 0,
      "outputs": []
    },
    {
      "cell_type": "code",
      "metadata": {
        "id": "w1vDka50zZnA",
        "colab_type": "code",
        "outputId": "9e3459a1-9b25-4c85-bd46-e8dc4d008fb6",
        "colab": {
          "base_uri": "https://localhost:8080/",
          "height": 34
        }
      },
      "source": [
        "println!(\"Hello, world!\");"
      ],
      "execution_count": 4,
      "outputs": [
        {
          "output_type": "stream",
          "text": [
            "Hello, world!\n"
          ],
          "name": "stdout"
        }
      ]
    }
  ]
}