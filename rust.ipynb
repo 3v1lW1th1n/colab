{
  "nbformat": 4,
  "nbformat_minor": 0,
  "metadata": {
    "colab": {
      "name": "rust.ipynb",
      "provenance": [],
      "collapsed_sections": []
    },
    "kernelspec": {
      "name": "rust",
      "display_name": "Rust"
    }
  },
  "cells": [
    {
      "cell_type": "code",
      "metadata": {
        "id": "p--wYZ2QwcgN",
        "colab_type": "code",
        "colab": {}
      },
      "source": [
        "!apt install rustc\n",
        "%env USER=root\n",
        "!cargo install evcxr_jupyter\n",
        "!/root/.cargo/bin/evcxr_jupyter --install"
      ],
      "execution_count": 0,
      "outputs": []
    },
    {
      "cell_type": "code",
      "metadata": {
        "id": "92RFo1ddw-yJ",
        "colab_type": "code",
        "colab": {}
      },
      "source": [
        ""
      ],
      "execution_count": 0,
      "outputs": []
    }
  ]
}